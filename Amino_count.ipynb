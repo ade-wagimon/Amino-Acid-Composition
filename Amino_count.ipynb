from collections import Counter

def calculate_residue_composition(sequence):
  """
  This function calculates the residue composition (count and frequency) of a given amino acid sequence,
  handling invalid amino acid characters.

  Args:
      sequence: A string representing the amino acid sequence.

  Returns:
      A tuple containing two dictionaries:
          - residue_composition: Count and frequency for each valid amino acid.
          - amino_acid_counts: Count for each valid amino acid.
  """
  # Define valid amino acids and properties (modify if needed)
  valid_amino_acids = set("ACDEFGHIKLMNPQRSTVWY")
  hydrophobic_residues = set("ALVICMF")
  hydrophilic_residues = set("RKEDNQH")
  neutral_residues = ("PSTGWY")  

  # Filter out invalid characters and count occurrences
  amino_acid_counts = Counter(aa for aa in sequence if aa in valid_amino_acids)

  # Get the total number of valid amino acids
  total_count = sum(amino_acid_counts.values())

  # Calculate residue composition (count and frequency)
  residue_composition = {aa: (count / total_count) * 100 for aa, count in amino_acid_counts.items()}

  # Calculate hydrophobic and hydrophilic counts
  hydrophobic_count = sum(amino_acid_counts[aa] for aa in hydrophobic_residues)
  hydrophilic_count = sum(amino_acid_counts[aa] for aa in hydrophilic_residues)
  neutral_count = sum(amino_acid_counts[aa] for aa in neutral_residues)  

  # Calculate hydrophobic and hydrophilic frequencies (adjust if needed)
  hydrophobic_freq = (hydrophobic_count / total_count) * 100
  hydrophilic_freq = (hydrophilic_count / total_count) * 100
  neutral_freq = (neutral_count / total_count) * 100  

  # Return results
  return residue_composition, amino_acid_counts, hydrophobic_count, hydrophobic_freq, hydrophilic_count, hydrophilic_freq, neutral_count, neutral_freq

def analyze_sequence_list(sequences):
  """
  This function analyzes a list of amino acid sequences and returns a dictionary containing
  composition information for each sequence.

  Args:
      sequences: A list of strings representing amino acid sequences.

  Returns:
      A dictionary where keys are sequence IDs (e.g., sequence index) and values are tuples containing
      the results from calculate_residue_composition for each sequence.
  """
  sequence_data = {}
  for i, sequence in enumerate(sequences):
    # Use sequence index or a more descriptive ID for the key
    sequence_id = f"Sequence {i+1}"
    residue_composition, amino_acid_counts, hydrophobic_count, hydrophobic_freq, hydrophilic_count, hydrophilic_freq, neutral_count, neutral_freq = calculate_residue_composition(sequence)
    sequence_data[sequence_id] = (residue_composition, amino_acid_counts, hydrophobic_count, hydrophobic_freq, hydrophilic_count, hydrophilic_freq, neutral_count, neutral_freq)
  return sequence_data

def main():
  """
  Example usage of the calculate_residue_composition and analyze_sequence_list functions.
  """
  sequences = [
      "PLEASEREPRESENTTHEINFORMATION",
      "GLOBINISAFUNCTIONALPROTEIN",
  ]

  # Analyze sequences
  sequence_analysis = analyze_sequence_list(sequences)

  # Print results for each sequence (modify to suit your needs)
  for sequence_id, data in sequence_analysis.items():
    print(f"\n** {sequence_id} Analysis **")
    print("Residue composition (count):", data[1])
    print("Hydrophobic count:", data[2])
    print("Hydrophobic frequency:", data[3], "%")    
    print("Hydrophilic count:", data[4])
    print("Hydrophilic frequency:", data[5], "%")
    print("Neutral count:", data[6])  
    print("Neutral freq:", data[7], "%")  

      

if __name__ == "__main__":
  main()
